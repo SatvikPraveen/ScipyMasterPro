{
 "cells": [
  {
   "cell_type": "markdown",
   "id": "215252d7",
   "metadata": {},
   "source": [
    "# 🧩 Notebook 04: Sampling & Resampling with SciPy"
   ]
  },
  {
   "cell_type": "code",
   "execution_count": 1,
   "id": "2c921555",
   "metadata": {},
   "outputs": [],
   "source": [
    "# Setup and Imports\n",
    "import pandas as pd\n",
    "import numpy as np\n",
    "from pathlib import Path\n",
    "import matplotlib.pyplot as plt\n",
    "import sys\n",
    "\n",
    "\n",
    "# ✅ Setup path to use utils\n",
    "PROJECT_ROOT = Path.cwd().parent\n",
    "if str(PROJECT_ROOT) not in sys.path:\n",
    "    sys.path.insert(0, str(PROJECT_ROOT))\n",
    "\n",
    "# Custom utils\n",
    "from utils.sim_utils import (\n",
    "    sample_uniform,\n",
    "    stratified_sample,\n",
    "    weighted_sample,\n",
    "    draw_multinomial_sample,\n",
    "    draw_dirichlet_sample,\n",
    "    sample_custom_discrete,\n",
    "    resample_with_replacement,\n",
    "    compute_ecdf\n",
    ")\n",
    "from utils.viz_utils import (\n",
    "    plot_ecdf_comparison_multi,\n",
    "    plot_sampling_distributions,\n",
    "    save_and_show_plot\n",
    ")\n",
    "\n",
    "# Paths\n",
    "DATA_PATH = Path(\"../synthetic_data\")\n",
    "EXPORT_PLOTS = Path(\"../exports/plots/04_sampling_resampling\")\n",
    "EXPORT_TABLES = Path(\"../exports/tables/04_sampling_resampling\")\n",
    "\n",
    "EXPORT_PLOTS.mkdir(parents=True, exist_ok=True)\n",
    "EXPORT_TABLES.mkdir(parents=True, exist_ok=True)"
   ]
  },
  {
   "cell_type": "markdown",
   "id": "6d41a88a",
   "metadata": {},
   "source": [
    "## 📦 Load Categorical and Poisson Data"
   ]
  },
  {
   "cell_type": "code",
   "execution_count": 2,
   "id": "5231ca80",
   "metadata": {},
   "outputs": [
    {
     "data": {
      "text/html": [
       "<div>\n",
       "<style scoped>\n",
       "    .dataframe tbody tr th:only-of-type {\n",
       "        vertical-align: middle;\n",
       "    }\n",
       "\n",
       "    .dataframe tbody tr th {\n",
       "        vertical-align: top;\n",
       "    }\n",
       "\n",
       "    .dataframe thead th {\n",
       "        text-align: right;\n",
       "    }\n",
       "</style>\n",
       "<table border=\"1\" class=\"dataframe\">\n",
       "  <thead>\n",
       "    <tr style=\"text-align: right;\">\n",
       "      <th></th>\n",
       "      <th>count</th>\n",
       "    </tr>\n",
       "  </thead>\n",
       "  <tbody>\n",
       "    <tr>\n",
       "      <th>A</th>\n",
       "      <td>319</td>\n",
       "    </tr>\n",
       "    <tr>\n",
       "      <th>B</th>\n",
       "      <td>393</td>\n",
       "    </tr>\n",
       "    <tr>\n",
       "      <th>C</th>\n",
       "      <td>188</td>\n",
       "    </tr>\n",
       "    <tr>\n",
       "      <th>D</th>\n",
       "      <td>100</td>\n",
       "    </tr>\n",
       "  </tbody>\n",
       "</table>\n",
       "</div>"
      ],
      "text/plain": [
       "   count\n",
       "A    319\n",
       "B    393\n",
       "C    188\n",
       "D    100"
      ]
     },
     "metadata": {},
     "output_type": "display_data"
    },
    {
     "data": {
      "text/html": [
       "<div>\n",
       "<style scoped>\n",
       "    .dataframe tbody tr th:only-of-type {\n",
       "        vertical-align: middle;\n",
       "    }\n",
       "\n",
       "    .dataframe tbody tr th {\n",
       "        vertical-align: top;\n",
       "    }\n",
       "\n",
       "    .dataframe thead th {\n",
       "        text-align: right;\n",
       "    }\n",
       "</style>\n",
       "<table border=\"1\" class=\"dataframe\">\n",
       "  <thead>\n",
       "    <tr style=\"text-align: right;\">\n",
       "      <th></th>\n",
       "      <th>counts</th>\n",
       "    </tr>\n",
       "  </thead>\n",
       "  <tbody>\n",
       "    <tr>\n",
       "      <th>0</th>\n",
       "      <td>5</td>\n",
       "    </tr>\n",
       "    <tr>\n",
       "      <th>1</th>\n",
       "      <td>4</td>\n",
       "    </tr>\n",
       "    <tr>\n",
       "      <th>2</th>\n",
       "      <td>4</td>\n",
       "    </tr>\n",
       "    <tr>\n",
       "      <th>3</th>\n",
       "      <td>4</td>\n",
       "    </tr>\n",
       "    <tr>\n",
       "      <th>4</th>\n",
       "      <td>2</td>\n",
       "    </tr>\n",
       "  </tbody>\n",
       "</table>\n",
       "</div>"
      ],
      "text/plain": [
       "   counts\n",
       "0       5\n",
       "1       4\n",
       "2       4\n",
       "3       4\n",
       "4       2"
      ]
     },
     "metadata": {},
     "output_type": "display_data"
    }
   ],
   "source": [
    "# Load data\n",
    "cat_counts = pd.read_csv(DATA_PATH / \"exports\" / \"categorical_counts.csv\", index_col=0)\n",
    "poisson_df = pd.read_csv(DATA_PATH / \"exports\" / \"poisson_data.csv\")\n",
    "\n",
    "display(cat_counts)\n",
    "display(poisson_df.head())"
   ]
  },
  {
   "cell_type": "markdown",
   "id": "3ec01fde",
   "metadata": {},
   "source": [
    "## 🔹 Section 1: Uniform & Weighted Sampling"
   ]
  },
  {
   "cell_type": "code",
   "execution_count": 3,
   "id": "ac342e96",
   "metadata": {},
   "outputs": [],
   "source": [
    "# Uniform sampling from categories\n",
    "uniform_sample = sample_uniform(cat_counts.index, n=100)\n",
    "\n",
    "# Weighted sampling\n",
    "weights = cat_counts.values.flatten() / cat_counts.sum().sum()\n",
    "weighted_smpl = weighted_sample(cat_counts.index, weights, n=200)\n"
   ]
  },
  {
   "cell_type": "markdown",
   "id": "856ffffa",
   "metadata": {},
   "source": [
    "## 🔹 Section 2: Stratified Sampling"
   ]
  },
  {
   "cell_type": "code",
   "execution_count": 4,
   "id": "c2ba7d9a",
   "metadata": {},
   "outputs": [
    {
     "name": "stderr",
     "output_type": "stream",
     "text": [
      "/Users/satvikpraveen/Desktop/Libraries/SciPyMasterPro/utils/sim_utils.py:29: FutureWarning: DataFrameGroupBy.apply operated on the grouping columns. This behavior is deprecated, and in a future version of pandas the grouping columns will be excluded from the operation. Either pass `include_groups=False` to exclude the groupings or explicitly select the grouping columns after groupby to silence this warning.\n",
      "  .apply(lambda x: x.sample(frac=frac, random_state=seed))\n"
     ]
    }
   ],
   "source": [
    "# Construct stratified sample\n",
    "df_strat = pd.DataFrame({\n",
    "    \"category\": np.random.choice(cat_counts.index, p=weights, size=1000),\n",
    "    \"value\": np.random.randn(1000)\n",
    "})\n",
    "stratified = stratified_sample(df_strat, stratify_col=\"category\", frac=0.2)"
   ]
  },
  {
   "cell_type": "markdown",
   "id": "74befb74",
   "metadata": {},
   "source": [
    "## 🔹 Section 3: Custom Discrete Sampling"
   ]
  },
  {
   "cell_type": "code",
   "execution_count": 5,
   "id": "5a47960b",
   "metadata": {},
   "outputs": [],
   "source": [
    "custom_sample = sample_custom_discrete(\n",
    "    support_vals=[0, 1, 2, 3],\n",
    "    probs=[0.1, 0.3, 0.4, 0.2],\n",
    "    size=1000\n",
    ")"
   ]
  },
  {
   "cell_type": "markdown",
   "id": "bc33a14a",
   "metadata": {},
   "source": [
    "## 🔹 Section 4: Dirichlet and Multinomial Sampling"
   ]
  },
  {
   "cell_type": "code",
   "execution_count": 6,
   "id": "0a40376d",
   "metadata": {},
   "outputs": [],
   "source": [
    "multi_sample = draw_multinomial_sample(n=100, probs=weights, size=1)\n",
    "dirichlet = draw_dirichlet_sample(alpha=[1, 1, 1, 1], size=1)"
   ]
  },
  {
   "cell_type": "markdown",
   "id": "bf765524",
   "metadata": {},
   "source": [
    "## 🔹 Section 5: Resampling and Bootstrapping (Poisson)"
   ]
  },
  {
   "cell_type": "code",
   "execution_count": 7,
   "id": "b6a61425",
   "metadata": {},
   "outputs": [],
   "source": [
    "resampled_poisson = resample_with_replacement(poisson_df['counts'], n_samples=500)\n",
    "\n",
    "# Compare ECDFs\n",
    "x_emp, y_emp = compute_ecdf(poisson_df['counts'])\n",
    "x_res, y_res = compute_ecdf(resampled_poisson)"
   ]
  },
  {
   "cell_type": "code",
   "execution_count": 8,
   "id": "3aa5967b",
   "metadata": {},
   "outputs": [],
   "source": [
    "# 📤 Export sampled datasets\n",
    "pd.Series(uniform_sample).to_csv(EXPORT_TABLES / \"uniform_sample.csv\", index=False)\n",
    "pd.Series(weighted_smpl).to_csv(EXPORT_TABLES / \"weighted_sample.csv\", index=False)\n",
    "stratified.to_csv(EXPORT_TABLES / \"stratified_sample.csv\", index=False)\n",
    "pd.Series(custom_sample).to_csv(EXPORT_TABLES / \"custom_discrete_sample.csv\", index=False)\n",
    "pd.Series(multi_sample[0]).to_csv(EXPORT_TABLES / \"multinomial_sample.csv\", index=False)\n",
    "pd.Series(dirichlet[0]).to_csv(EXPORT_TABLES / \"dirichlet_sample.csv\", index=False)\n",
    "pd.Series(resampled_poisson).to_csv(EXPORT_TABLES / \"bootstrap_poisson.csv\", index=False)"
   ]
  },
  {
   "cell_type": "markdown",
   "id": "9bd4304c",
   "metadata": {},
   "source": [
    "## 📈 Section 6: Visualize ECDF Comparison (Resampled vs Original)"
   ]
  },
  {
   "cell_type": "code",
   "execution_count": 9,
   "id": "96f44785",
   "metadata": {},
   "outputs": [
    {
     "data": {
      "image/png": "[encoded data removed]",
      "text/plain": [
       "<Figure size 800x510 with 1 Axes>"
      ]
     },
     "metadata": {},
     "output_type": "display_data"
    }
   ],
   "source": [
    "# 📈 Section 6: Visualize ECDF Comparison (Resampled vs Original)\n",
    "fig_ecdf = plot_ecdf_comparison_multi({\n",
    "    \"Original Poisson\": (x_emp, y_emp),\n",
    "    \"Bootstrap\": (x_res, y_res)\n",
    "})\n",
    "save_and_show_plot(fig_ecdf, EXPORT_PLOTS / \"ecdf_bootstrap_poisson.png\")"
   ]
  },
  {
   "cell_type": "markdown",
   "id": "2f453217",
   "metadata": {},
   "source": [
    "## 📈 Section 7: Sampling Statistics Comparison Block"
   ]
  },
  {
   "cell_type": "code",
   "execution_count": 10,
   "id": "062e400e",
   "metadata": {},
   "outputs": [
    {
     "data": {
      "text/html": [
       "<div>\n",
       "<style scoped>\n",
       "    .dataframe tbody tr th:only-of-type {\n",
       "        vertical-align: middle;\n",
       "    }\n",
       "\n",
       "    .dataframe tbody tr th {\n",
       "        vertical-align: top;\n",
       "    }\n",
       "\n",
       "    .dataframe thead th {\n",
       "        text-align: right;\n",
       "    }\n",
       "</style>\n",
       "<table border=\"1\" class=\"dataframe\">\n",
       "  <thead>\n",
       "    <tr style=\"text-align: right;\">\n",
       "      <th></th>\n",
       "      <th>Mean (or Count)</th>\n",
       "      <th>Std Dev</th>\n",
       "    </tr>\n",
       "  </thead>\n",
       "  <tbody>\n",
       "    <tr>\n",
       "      <th>Original</th>\n",
       "      <td>3.932</td>\n",
       "      <td>1.976661</td>\n",
       "    </tr>\n",
       "    <tr>\n",
       "      <th>Bootstrap</th>\n",
       "      <td>4.158</td>\n",
       "      <td>1.962915</td>\n",
       "    </tr>\n",
       "    <tr>\n",
       "      <th>Uniform</th>\n",
       "      <td>100.000</td>\n",
       "      <td>NaN</td>\n",
       "    </tr>\n",
       "    <tr>\n",
       "      <th>Weighted</th>\n",
       "      <td>200.000</td>\n",
       "      <td>NaN</td>\n",
       "    </tr>\n",
       "  </tbody>\n",
       "</table>\n",
       "</div>"
      ],
      "text/plain": [
       "           Mean (or Count)   Std Dev\n",
       "Original             3.932  1.976661\n",
       "Bootstrap            4.158  1.962915\n",
       "Uniform            100.000       NaN\n",
       "Weighted           200.000       NaN"
      ]
     },
     "metadata": {},
     "output_type": "display_data"
    }
   ],
   "source": [
    "# 📊 Sampling Summary Statistics\n",
    "sampling_stats = pd.DataFrame({\n",
    "    \"Original\": [poisson_df['counts'].mean(), poisson_df['counts'].std()],\n",
    "    \"Bootstrap\": [resampled_poisson.mean(), resampled_poisson.std()],\n",
    "    \"Uniform\": [len(uniform_sample), None],\n",
    "    \"Weighted\": [len(weighted_smpl), None]\n",
    "}, index=[\"Mean (or Count)\", \"Std Dev\"]).T\n",
    "\n",
    "sampling_stats.to_csv(EXPORT_TABLES / \"sampling_stats_summary.csv\")\n",
    "display(sampling_stats)"
   ]
  },
  {
   "cell_type": "markdown",
   "id": "ba08889b",
   "metadata": {},
   "source": [
    "## 🔹 Section 7: Combined Sampling Distributions Visualization"
   ]
  },
  {
   "cell_type": "code",
   "execution_count": 11,
   "id": "0e741cfc",
   "metadata": {},
   "outputs": [
    {
     "data": {
      "image/png": "[encoded data removed]",
      "text/plain": [
       "<Figure size 1200x600 with 1 Axes>"
      ]
     },
     "metadata": {},
     "output_type": "display_data"
    }
   ],
   "source": [
    "# Visualization\n",
    "\n",
    "samples_to_plot = {\n",
    "    \"Uniform Sample\": uniform_sample,\n",
    "    \"Weighted Sample\": weighted_smpl,\n",
    "    \"Custom Discrete\": custom_sample,\n",
    "    \"Bootstrap (Poisson)\": resampled_poisson\n",
    "}\n",
    "\n",
    "\n",
    "fig_samples = plot_sampling_distributions(samples_to_plot)\n",
    "save_and_show_plot(fig_samples, EXPORT_PLOTS / \"sampling_distributions_comparison.png\")\n"
   ]
  },
  {
   "cell_type": "markdown",
   "id": "d6b3d960",
   "metadata": {},
   "source": [
    "## 🔹 Section 8: Sampling Frequency Table"
   ]
  },
  {
   "cell_type": "code",
   "execution_count": 12,
   "id": "3af68a29",
   "metadata": {},
   "outputs": [
    {
     "data": {
      "text/html": [
       "<div>\n",
       "<style scoped>\n",
       "    .dataframe tbody tr th:only-of-type {\n",
       "        vertical-align: middle;\n",
       "    }\n",
       "\n",
       "    .dataframe tbody tr th {\n",
       "        vertical-align: top;\n",
       "    }\n",
       "\n",
       "    .dataframe thead th {\n",
       "        text-align: right;\n",
       "    }\n",
       "</style>\n",
       "<table border=\"1\" class=\"dataframe\">\n",
       "  <thead>\n",
       "    <tr style=\"text-align: right;\">\n",
       "      <th></th>\n",
       "      <th>Original Counts</th>\n",
       "      <th>Uniform Sample</th>\n",
       "      <th>Weighted Sample</th>\n",
       "    </tr>\n",
       "  </thead>\n",
       "  <tbody>\n",
       "    <tr>\n",
       "      <th>A</th>\n",
       "      <td>319</td>\n",
       "      <td>20</td>\n",
       "      <td>73</td>\n",
       "    </tr>\n",
       "    <tr>\n",
       "      <th>B</th>\n",
       "      <td>393</td>\n",
       "      <td>26</td>\n",
       "      <td>70</td>\n",
       "    </tr>\n",
       "    <tr>\n",
       "      <th>C</th>\n",
       "      <td>188</td>\n",
       "      <td>24</td>\n",
       "      <td>38</td>\n",
       "    </tr>\n",
       "    <tr>\n",
       "      <th>D</th>\n",
       "      <td>100</td>\n",
       "      <td>30</td>\n",
       "      <td>19</td>\n",
       "    </tr>\n",
       "  </tbody>\n",
       "</table>\n",
       "</div>"
      ],
      "text/plain": [
       "   Original Counts  Uniform Sample  Weighted Sample\n",
       "A              319              20               73\n",
       "B              393              26               70\n",
       "C              188              24               38\n",
       "D              100              30               19"
      ]
     },
     "metadata": {},
     "output_type": "display_data"
    }
   ],
   "source": [
    "# Sampling Frequency Table\n",
    "freq_table = pd.DataFrame({\n",
    "    \"Original Counts\": cat_counts.values.flatten(),\n",
    "    \"Uniform Sample\": pd.Series(uniform_sample).value_counts().reindex(cat_counts.index, fill_value=0),\n",
    "    \"Weighted Sample\": pd.Series(weighted_smpl).value_counts().reindex(cat_counts.index, fill_value=0),\n",
    "}, index=cat_counts.index)\n",
    "\n",
    "freq_table.to_csv(EXPORT_TABLES / \"sampling_frequency_comparison.csv\")\n",
    "display(freq_table)\n"
   ]
  },
  {
   "cell_type": "markdown",
   "id": "ba0163ee",
   "metadata": {},
   "source": [
    "## 🧠 Key Takeaways\n",
    "- Sampling is not just a method, it's a simulation strategy — uniform vs weighted can drastically change sample quality.\n",
    "- Stratified sampling is essential for keeping category balance in imbalanced data.\n",
    "- Custom discrete distributions using rv_discrete allow complete flexibility in modeling.\n",
    "- Multinomial helps simulate multinomial outcomes (e.g., coin flips, dice rolls).\n",
    "- Dirichlet distributions are useful for simulating prior probabilities and Bayesian contexts.\n",
    "- Bootstrap resampling (with ECDF comparison) is a nonparametric approach to statistical inference and error estimation."
   ]
  },
  {
   "cell_type": "markdown",
   "id": "29f2e959",
   "metadata": {},
   "source": [
    "## ✅ Summary\n",
    "In this notebook, we:\n",
    "\n",
    "- Loaded synthetic categorical and Poisson data\n",
    "- Performed uniform, weighted, and stratified sampling\n",
    "- Used custom discrete, multinomial, and Dirichlet sampling techniques\n",
    "- Demonstrated resampling with replacement (bootstrap)\n",
    "- Compared original vs bootstrap distributions using ECDF overlays\n",
    "- Exported all necessary figures and datasets for reproducibility"
   ]
  }
 ],
 "metadata": {
  "kernelspec": {
   "display_name": "scipy_env",
   "language": "python",
   "name": "python3"
  },
  "language_info": {
   "codemirror_mode": {
    "name": "ipython",
    "version": 3
   },
   "file_extension": ".py",
   "mimetype": "text/x-python",
   "name": "python",
   "nbconvert_exporter": "python",
   "pygments_lexer": "ipython3",
   "version": "3.11.5"
  }
 },
 "nbformat": 4,
 "nbformat_minor": 5
}
